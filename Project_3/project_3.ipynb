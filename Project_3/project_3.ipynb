{
 "cells": [
  {
   "cell_type": "code",
   "execution_count": 55,
   "metadata": {},
   "outputs": [
    {
     "name": "stdout",
     "output_type": "stream",
     "text": [
      "Structure exists: '/Users/nidhiwalia/bch_5884/Project3/ef/6efv.cif' \n"
     ]
    },
    {
     "name": "stderr",
     "output_type": "stream",
     "text": [
      "WARNING: The default download format has changed from PDB to PDBx/mmCif\n"
     ]
    }
   ],
   "source": [
    "#https://github.com/nidhiwalia/bch5884\n",
    "#Nidhi Walia\n",
    "#Project3:Structural analysis of Sulfite Reductase Flavoprotein\n",
    "\n",
    "#Importing numpy,matplotlib,scipy to plot graphs, biopython modules Bio.PDB to analyze protein files and nglview to visualize protein structures.\n",
    "import numpy as np\n",
    "from matplotlib import pyplot as plt\n",
    "from scipy.signal import find_peaks\n",
    "from Bio.PDB import *\n",
    "import nglview as nv, pytraj as pt\n",
    "\n",
    "#Retrieving PDB file from commmand line and cif will get downlaoded\n",
    "pdbl = PDBList()\n",
    "pdbl.retrieve_pdb_file('6EFV')\n",
    "\n",
    "#Opening SEC files\n",
    "f1=open(\"FP60-HP copy.txt\")\n",
    "f2=open(\"NFPSH.txt\")\n",
    "lines1=f1.readlines()\n",
    "lines2=f2.readlines()\n",
    "f1.close()\n",
    "f2.close()\n"
   ]
  },
  {
   "cell_type": "code",
   "execution_count": 56,
   "metadata": {},
   "outputs": [],
   "source": [
    "#Parsing the downloaded cif file\n",
    "parser = MMCIFParser()"
   ]
  },
  {
   "cell_type": "code",
   "execution_count": 57,
   "metadata": {},
   "outputs": [],
   "source": [
    "#Using get_structure attribute, all the information will get stored in structure object.\n",
    "structure = parser.get_structure('6EFV', 'ef/6efv.cif')\n"
   ]
  },
  {
   "cell_type": "code",
   "execution_count": 58,
   "metadata": {},
   "outputs": [
    {
     "data": {
      "application/vnd.jupyter.widget-view+json": {
       "model_id": "488e8001b34f4725953c8e6cc0ba2c52",
       "version_major": 2,
       "version_minor": 0
      },
      "text/plain": [
       "NGLWidget()"
      ]
     },
     "metadata": {},
     "output_type": "display_data"
    }
   ],
   "source": [
    "#using nglview to view structure of SiRFP\n",
    "#ribbon structure for protein and ball and stick model (atom and bond) for non protein atoms.\n",
    "view = nv.show_biopython(structure)\n",
    "view.clear_representations()\n",
    "view.add_cartoon('protein')\n",
    "view.add_ball_and_stick('not protein')\n",
    "view"
   ]
  },
  {
   "cell_type": "code",
   "execution_count": 29,
   "metadata": {},
   "outputs": [],
   "source": [
    "#This will save the above image in downlaods \n",
    "view.render_image()\n",
    "view._display_image()\n",
    "view.download_image()"
   ]
  },
  {
   "cell_type": "code",
   "execution_count": 30,
   "metadata": {
    "scrolled": true
   },
   "outputs": [
    {
     "name": "stdout",
     "output_type": "stream",
     "text": [
      "model <Model id=0>\n"
     ]
    }
   ],
   "source": [
    "#Analyzing model in structure\n",
    "print(f\"model {model}\")"
   ]
  },
  {
   "cell_type": "code",
   "execution_count": 59,
   "metadata": {
    "scrolled": true
   },
   "outputs": [
    {
     "name": "stdout",
     "output_type": "stream",
     "text": [
      "chain <Chain id=A>, Chain ID: A\n"
     ]
    }
   ],
   "source": [
    "#Analyzing chains in models\n",
    "model = structure[0] #since we only have one model\n",
    "for chain in model:\n",
    "    print(f\"chain {chain}, Chain ID: {chain.id}\")\n",
    "    "
   ]
  },
  {
   "cell_type": "code",
   "execution_count": 60,
   "metadata": {},
   "outputs": [
    {
     "ename": "SyntaxError",
     "evalue": "unexpected EOF while parsing (<ipython-input-60-d057a2a109a0>, line 5)",
     "output_type": "error",
     "traceback": [
      "\u001b[0;36m  File \u001b[0;32m\"<ipython-input-60-d057a2a109a0>\"\u001b[0;36m, line \u001b[0;32m5\u001b[0m\n\u001b[0;31m    \u001b[0m\n\u001b[0m    ^\u001b[0m\n\u001b[0;31mSyntaxError\u001b[0m\u001b[0;31m:\u001b[0m unexpected EOF while parsing\n"
     ]
    }
   ],
   "source": [
    "#Analyzing all the residues in chain A with chain ID\n",
    "chain_A = model['A']\n",
    "for res in chain_A:\n",
    "    #print(f\"Residue name: {res.resname}, number: {res.id[1]}\")\n",
    "    "
   ]
  },
  {
   "cell_type": "code",
   "execution_count": 61,
   "metadata": {},
   "outputs": [
    {
     "name": "stdout",
     "output_type": "stream",
     "text": [
      "<Residue ILE het=  resseq=64 icode= >\n",
      "N\n",
      "CA\n",
      "C\n",
      "O\n",
      "CB\n",
      "CG1\n",
      "CG2\n",
      "CD1\n"
     ]
    }
   ],
   "source": [
    "#Analyzing atoms of residue in chain (checking for 64 number residue)\n",
    "res = chain_A[64]\n",
    "print (res)\n",
    "for atom in res:\n",
    "    print(f\"{atom.name}\")"
   ]
  },
  {
   "cell_type": "code",
   "execution_count": 63,
   "metadata": {},
   "outputs": [
    {
     "ename": "SyntaxError",
     "evalue": "unexpected EOF while parsing (<ipython-input-63-3e864e38fb31>, line 6)",
     "output_type": "error",
     "traceback": [
      "\u001b[0;36m  File \u001b[0;32m\"<ipython-input-63-3e864e38fb31>\"\u001b[0;36m, line \u001b[0;32m6\u001b[0m\n\u001b[0;31m    #print(atom)\u001b[0m\n\u001b[0m                ^\u001b[0m\n\u001b[0;31mSyntaxError\u001b[0m\u001b[0;31m:\u001b[0m unexpected EOF while parsing\n"
     ]
    }
   ],
   "source": [
    "#Analyzing all the atoms in the structure\n",
    "for model in structure:\n",
    "    for chain in model:\n",
    "        for residue in chain:\n",
    "            for atom in residue:\n",
    "                #print(atom)"
   ]
  },
  {
   "cell_type": "code",
   "execution_count": 64,
   "metadata": {
    "scrolled": true
   },
   "outputs": [
    {
     "data": {
      "text/plain": [
       "['binding site for residue FAD A 601',\n",
       " 'binding site for residue FMN A 602',\n",
       " 'binding site for residue SO4 A 603',\n",
       " 'binding site for residue SO4 A 604',\n",
       " 'binding site for residue SO4 A 605',\n",
       " 'binding site for residue SO4 A 606',\n",
       " 'binding site for residue SO4 A 607',\n",
       " 'binding site for residue SO4 A 608',\n",
       " 'binding site for residue CXS A 609',\n",
       " 'binding site for residue CXS A 610']"
      ]
     },
     "execution_count": 64,
     "metadata": {},
     "output_type": "execute_result"
    }
   ],
   "source": [
    "#Converting mmcif file to dictionary and giving path to my file\n",
    "#In order to find out binding residues of FMN and FAD \n",
    "struc_dict = MMCIF2Dict.MMCIF2Dict('ef/6efv.cif')\n",
    "struc_dict['_struct_site.details']"
   ]
  },
  {
   "cell_type": "code",
   "execution_count": 36,
   "metadata": {},
   "outputs": [
    {
     "data": {
      "text/plain": [
       "['AC1', 'AC2', 'AC3', 'AC4', 'AC5', 'AC6', 'AC7', 'AC8', 'AC9', 'AD1']"
      ]
     },
     "execution_count": 36,
     "metadata": {},
     "output_type": "execute_result"
    }
   ],
   "source": [
    "#Identifying the struture ids\n",
    "struc_dict['_struct_site.id']\n"
   ]
  },
  {
   "cell_type": "code",
   "execution_count": 37,
   "metadata": {},
   "outputs": [
    {
     "data": {
      "text/plain": [
       "['NADPH-dependent sulfite reductase flavoprotein adopts an extended conformation unique to this diflavin reductase.']"
      ]
     },
     "execution_count": 37,
     "metadata": {},
     "output_type": "execute_result"
    }
   ],
   "source": [
    "#Title for the paper\n",
    "struc_dict['_citation.title']\n"
   ]
  },
  {
   "cell_type": "code",
   "execution_count": 38,
   "metadata": {
    "scrolled": true
   },
   "outputs": [
    {
     "name": "stdout",
     "output_type": "stream",
     "text": [
      "AC1 A 322 THR\n",
      "AC1 A 323 VAL\n",
      "AC1 A 356 ALA\n",
      "AC1 A 386 ARG\n",
      "AC1 A 387 LEU\n",
      "AC1 A 388 TYR\n",
      "AC1 A 389 SER\n",
      "AC1 A 404 THR\n",
      "AC1 A 406 GLY\n",
      "AC1 A 410 TYR\n",
      "AC1 A 419 GLY\n",
      "AC1 A 420 GLY\n",
      "AC1 A 421 ALA\n",
      "AC1 A 422 SER\n",
      "AC1 A 462 THR\n",
      "AC1 A 597 ASP\n",
      "AC1 A 599 TYR\n",
      "AC1 A 728 HOH\n",
      "AC1 A 772 HOH\n",
      "AC1 A 774 HOH\n",
      "AC1 A 776 HOH\n",
      "AC1 A 791 HOH\n",
      "AC1 A 803 HOH\n",
      "AC1 A 809 HOH\n",
      "AC1 A 822 HOH\n",
      "AC1 A 833 HOH\n",
      "AC1 A 872 HOH\n",
      "AC1 A 914 HOH\n",
      "AC1 A 918 HOH\n",
      "AC2 A 70 SER\n",
      "AC2 A 71 GLN\n",
      "AC2 A 72 THR\n",
      "AC2 A 73 GLY\n",
      "AC2 A 74 ASN\n",
      "AC2 A 75 ALA\n",
      "AC2 A 117 SER\n",
      "AC2 A 118 THR\n",
      "AC2 A 119 GLN\n",
      "AC2 A 120 GLY\n",
      "AC2 A 121 GLU\n",
      "AC2 A 122 GLY\n",
      "AC2 A 154 GLY\n",
      "AC2 A 155 ASP\n",
      "AC2 A 158 TYR\n",
      "AC2 A 160 PHE\n",
      "AC2 A 161 PHE\n",
      "AC2 A 162 CYS\n",
      "AC2 A 753 HOH\n",
      "AC2 A 824 HOH\n"
     ]
    }
   ],
   "source": [
    "#Iterating over AC1 and AC2 to get, each id will have list of residues for the binding site\n",
    "site_ID = struc_dict['_struct_site_gen.site_id']\n",
    "site_chain = struc_dict['_struct_site_gen.auth_asym_id']\n",
    "site_resnum = struc_dict['_struct_site_gen.auth_seq_id']\n",
    "site_resname = struc_dict['_struct_site_gen.label_comp_id']\n",
    "\n",
    "\n",
    "def getbindId(bindId):\n",
    "    binding_residues=[]\n",
    "    for bind_id, ch, num, name in zip(site_ID, site_chain, site_resnum, site_resname):\n",
    "        if bind_id == bindId:\n",
    "            print(bind_id, ch, num, name)\n",
    "            try:\n",
    "                binding_residues.append(structure[0][ch][int(num)])\n",
    "            except:\n",
    "                continue\n",
    "        else:\n",
    "            continue\n",
    "    return binding_residues\n",
    "cif_binding_residues = getbindId(\"AC1\")\n",
    "cif_binding_residues2 = getbindId(\"AC2\")\n",
    "#print(cif_binding_residues)\n",
    "\n",
    "\n",
    "            "
   ]
  },
  {
   "cell_type": "code",
   "execution_count": 39,
   "metadata": {},
   "outputs": [
    {
     "name": "stdout",
     "output_type": "stream",
     "text": [
      "<Residue FMN het=H_FMN resseq=602 icode= >\n",
      "<Residue FAD het=H_FAD resseq=601 icode= >\n",
      "[ 34.164 -53.971 -75.035]\n",
      "[ 18.892 -16.197 -33.547]\n",
      "[ 47.279 -43.163 -80.085]\n",
      "[ 22.353  -5.272 -38.576]\n"
     ]
    }
   ],
   "source": [
    "#If you don't trust the above annotations for residues, you can create your own list of residues by setting a cut off\n",
    "def domain(resname):\n",
    "    for res2 in structure[0].get_residues():\n",
    "        if res2.resname == resname:\n",
    "            domain_name= res2\n",
    "            break\n",
    "    return domain_name\n",
    "FMN=domain(\"FMN\")\n",
    "FAD=domain(\"FAD\")\n",
    "print(FMN)\n",
    "print(FAD)\n",
    "\n",
    "#step 1:finding the x,y,z coordinates of FMN and FAD (stating atom and last atom)\n",
    "res_1_CA = structure[0]['A'][322]['CA']\n",
    "res_1_CA_2=structure[0]['A'][70]['CA']\n",
    "print(res_1_CA.coord)\n",
    "print (res_1_CA_2.coord)\n",
    "\n",
    "\n",
    "res_2_CA = structure[0]['A'][599]['CA']\n",
    "res_2_CA_2 = structure[0]['A'][162]['CA']\n",
    "print(res_2_CA.coord)\n",
    "print(res_2_CA_2.coord)\n",
    "\n"
   ]
  },
  {
   "cell_type": "code",
   "execution_count": 40,
   "metadata": {},
   "outputs": [
    {
     "name": "stdout",
     "output_type": "stream",
     "text": [
      "[-13.114998  -10.808002    5.0499954]\n",
      "[ -3.4610004 -10.925001    5.0289993]\n",
      "[13.114998  10.808002   5.0499954]\n",
      "[ 3.4610004 10.925001   5.0289993]\n"
     ]
    }
   ],
   "source": [
    "#step2:finding difference between the coordinates and making distance a positive value\n",
    "diff = res_1_CA.coord - res_2_CA.coord\n",
    "diff2= res_1_CA_2.coord - res_2_CA_2.coord\n",
    "print(diff)\n",
    "print(diff2)\n",
    "import numpy as np\n",
    "dist = np.sqrt(diff * diff)\n",
    "dist2 = np.sqrt(diff2 * diff2)\n",
    "\n",
    "print(dist)\n",
    "print(dist2)"
   ]
  },
  {
   "cell_type": "code",
   "execution_count": 41,
   "metadata": {},
   "outputs": [],
   "source": [
    "#step3:setting cut off 10 angstrom \n",
    "#defining function to loop over every residue of protein to check if it is close enough to FAD and FMN residue\n",
    " \n",
    "cutoff = 10\n",
    "\n",
    "def findResidue(domain_name):\n",
    "    main_residues=[]\n",
    "    for res in structure[0].get_residues():\n",
    "        #skip the FAD residue, as we donot want the distance to itself\n",
    "        if res == domain_name:\n",
    "            continue\n",
    "        #skip non-amino acid residues are tagged with an 'H' and 'W'in their id tuple\n",
    "       \n",
    "        elif res.id[0].startswith(\"H\"):\n",
    "            continue\n",
    "        elif res.id[0].startswith(\"W\"):\n",
    "            continue\n",
    "          \n",
    "        else:\n",
    "            alpha_carbon = res['CA']\n",
    "        \n",
    "            \n",
    "            distances = []\n",
    "            for atom in domain_name:\n",
    "                #difference in two position vectors\n",
    "                diff_vector = alpha_carbon.coord - atom.coord\n",
    "        \n",
    "                #to get a positive value we square the difference vector\n",
    "                #we then take the square root to go back to the original scale\n",
    "                distances.append(np.sqrt(np.sum(diff_vector * diff_vector)))\n",
    "            #we get the nearest atom using min(distances) and see if it falls inside the cutoff\n",
    "            if min(distances) < cutoff:\n",
    "                main_residues.append(res)\n",
    "\n",
    "    return main_residues\n",
    "#finding residues for both FAD and FMN\n",
    "binding_residues = findResidue(FAD)\n",
    "binding_residues2 = findResidue(FMN)\n",
    "\n",
    "#binding_residues will show all the binding residues of FAD\n",
    "#binding_residues2 will show all the binding residues of FMN\n",
    "\n",
    "#print(binding_residues)\n",
    "#print(binding_residues2)"
   ]
  },
  {
   "cell_type": "code",
   "execution_count": 42,
   "metadata": {},
   "outputs": [
    {
     "data": {
      "application/vnd.jupyter.widget-view+json": {
       "model_id": "5d1e0b8a98bf4881b6e4201076dc2c0b",
       "version_major": 2,
       "version_minor": 0
      },
      "text/plain": [
       "NGLWidget()"
      ]
     },
     "metadata": {},
     "output_type": "display_data"
    }
   ],
   "source": [
    "#setting the binding residues (FAD) to green in the visualization using hexadecimal color codes\n",
    "#view = nv.demo()\n",
    "\n",
    "view = nv.show_biopython(structure)\n",
    "residues = structure[0].get_residues()\n",
    "\n",
    "for r in residues:\n",
    "    colors = ['0x0000FF' if r not in binding_residues else '0x00FF00' for r in residues]\n",
    "\n",
    "view._set_color_by_residue(colors, component_index=0, repr_index=0)\n",
    "view\n"
   ]
  },
  {
   "cell_type": "code",
   "execution_count": 43,
   "metadata": {},
   "outputs": [],
   "source": [
    "#this will save the above image in downlaods\n",
    "view.render_image()\n",
    "view._display_image()\n",
    "view.download_image()\n",
    "#once image get downloaded,save it in png to use it further in webpage"
   ]
  },
  {
   "cell_type": "code",
   "execution_count": 44,
   "metadata": {},
   "outputs": [
    {
     "data": {
      "application/vnd.jupyter.widget-view+json": {
       "model_id": "00298df4d4014029bbe4f1d56d9fa542",
       "version_major": 2,
       "version_minor": 0
      },
      "text/plain": [
       "NGLWidget()"
      ]
     },
     "metadata": {},
     "output_type": "display_data"
    }
   ],
   "source": [
    "#setting the binding residues (FMN) to red in the visualization using hexadecimal color codes\n",
    "#view = nv.demo()\n",
    "\n",
    "view = nv.show_biopython(structure)\n",
    "residues = structure[0].get_residues()\n",
    "colors = ['0x0000FF' if r not in binding_residues2 else '0xFF0000' for r in residues]\n",
    "\n",
    "view._set_color_by_residue(colors, component_index=0, repr_index=0)\n",
    "view"
   ]
  },
  {
   "cell_type": "code",
   "execution_count": 45,
   "metadata": {},
   "outputs": [],
   "source": [
    "#this will save the above image in downlaods\n",
    "view.render_image()\n",
    "view._display_image()\n",
    "view.download_image()\n",
    "#once image get downloaded,save it in png to use it further in webpage"
   ]
  },
  {
   "cell_type": "code",
   "execution_count": 46,
   "metadata": {},
   "outputs": [],
   "source": [
    "#Analyzing the SEC files for NFPSh and FP60-HP dimer\n",
    "\n",
    "x1=[]\n",
    "y1=[]\n",
    "for line1 in lines1[3:]:\n",
    "        words=line1.split()\n",
    "        try:\n",
    "                x1.append(float(words[0]))\n",
    "                y1.append(float(words[1]))\n",
    "        except:\n",
    "                #print(\"Parsed the file\",line)\n",
    "                continue\n",
    "#print(x1)\n",
    "#Print(y1)\n",
    "\n",
    "x2=[]\n",
    "y2=[]\n",
    "for line2 in lines2[3:]:\n",
    "        words=line2.split()\n",
    "        try:\n",
    "                x2.append(float(words[0]))\n",
    "                y2.append(float(words[1]))\n",
    "        except:\n",
    "                #print(\"Parsed the file\",line)\n",
    "                continue\n",
    "#print(x2)\n",
    "#Print(y2)\n",
    "\n",
    "x1=np.array(x1)\n",
    "y1=np.array(y1)\n",
    "x2=np.array(x2)\n",
    "y2=np.array(y2)"
   ]
  },
  {
   "cell_type": "code",
   "execution_count": 47,
   "metadata": {},
   "outputs": [
    {
     "name": "stdout",
     "output_type": "stream",
     "text": [
      "[(119.227394, 251.57254), (134.939102, 162.739014)]\n",
      "[(101.274841, 417.466187)]\n",
      "NFPSh has elution volume less than dimer so it is behaving as a octamer\n"
     ]
    }
   ],
   "source": [
    "#finding peaks for both the chromatograms\n",
    "threshold=75\n",
    "peak_x1=[]\n",
    "peak_y1=[]\n",
    "peak_xy1=[]\n",
    "index_peak1=[]\n",
    "for i in range((len(y1))-1):\n",
    "\tp1=y1[i-1]\n",
    "\tq1=y1[i]\n",
    "\tr1=y1[i+1]\n",
    "\tif q1>=p1 and q1>=r1 and q1>threshold:\n",
    "\t\tpeak_x1.append(x1[i])\n",
    "\t\tpeak_y1.append(y1[i])\n",
    "\t\tpeak_xy1.append((x1[i],y1[i]))\n",
    "\t\tindex_peak1.append(i)\n",
    "\n",
    "threshold=75\n",
    "peak_x2=[]\n",
    "peak_y2=[]\n",
    "peak_xy2=[]\n",
    "index_peak2=[]\n",
    "for i in range((len(y2))-1):\n",
    "\tp2=y2[i-1]\n",
    "\tq2=y2[i]\n",
    "\tr2=y2[i+1]\n",
    "\tif q2>=p2 and q2>=r2 and q2>threshold:\n",
    "\t\tpeak_x2.append(x2[i])\n",
    "\t\tpeak_y2.append(y2[i])\n",
    "\t\tpeak_xy2.append((x2[i],y2[i]))\n",
    "\t\tindex_peak2.append(i)\n",
    "        \n",
    "print(peak_xy1)\n",
    "print(peak_xy2)\n",
    "\n",
    "if peak_x2<peak_x1:\n",
    "    print(\"NFPSh has elution volume less than dimer so it is behaving as a octamer\")\n",
    "else:\n",
    "    print(\"NFPSH is a monomer\")"
   ]
  },
  {
   "cell_type": "code",
   "execution_count": 48,
   "metadata": {},
   "outputs": [
    {
     "data": {
      "image/png": "[encoded data removed]",
      "text/plain": [
       "<Figure size 1080x360 with 2 Axes>"
      ]
     },
     "metadata": {
      "needs_background": "light"
     },
     "output_type": "display_data"
    }
   ],
   "source": [
    "#plotting both the plots \n",
    "f = plt.figure(figsize=(15,5))\n",
    "plt.subplot(1,2,1)\n",
    "plt.plot(x1,y1, color='blue',linestyle='-')\n",
    "plt.scatter(peak_x1,peak_y1,color='red')\n",
    "plt.title('FP60-HP(DIMER)')\n",
    "plt.xlabel('volume',color='blue')\n",
    "plt.ylabel('absorbance',color='blue')\n",
    "for x1,y1 in zip(peak_x1,peak_y1):\n",
    "\tplt.text(x1,y1,'(%.1f,%.1f)'%(x1,y1),ha='right',va='bottom')\n",
    "#f.savefig('plot1.png')\n",
    "\n",
    "#f = plt.figure(figsize=(15,5))\n",
    "plt.subplot(1,2,2)\n",
    "plt.plot(x2,y2,color='green',linestyle='-')\n",
    "plt.scatter(peak_x2,peak_y2,color='red')\n",
    "plt.xlabel('volume',color='blue')\n",
    "plt.ylabel('absorbance',color='blue')\n",
    "plt.title('NFPSh')\n",
    "for x2,y2 in zip(peak_x2,peak_y2):\n",
    "\tplt.text(x2,y2,'(%.1f,%.1f)'%(x2,y2),ha='right',va='bottom')\n",
    "\n",
    "\n",
    "plt.show()\n",
    "f.savefig('plots.png')\n"
   ]
  },
  {
   "cell_type": "code",
   "execution_count": 51,
   "metadata": {},
   "outputs": [],
   "source": [
    "#Writing a webpage which shows outputs \n",
    "\n",
    "f = open('webpage_Nidhi_Project3.html','w')\n",
    "\n",
    "webpage = \"\"\"<html>\n",
    "<style>\n",
    "body{\n",
    "                               background: skyblue;\n",
    "                               color: black;\n",
    "                               \n",
    "                           }\n",
    "\n",
    "                           </style>\n",
    "<head><h1 style=\"color:Blue;\">Structural analysis of Sulfite Reductase Flavoprotein</h1></head>\n",
    "<body><p>Sulfite Reducatase Flavoprotein\n",
    "Sulfite reductase flavoprotein (SiRFP) is a 64kDa monomer unit and can form a 540kDa octamer by oligomerization of its N-terminal first 52 amino acids SiRFP contains the FMN binding flavodoxin (Fld) domain, a FNR (Ferredoxin NADP+ reductase) like NADPH/FAD binding domain and a connection domain which interrupts the FNR domain. A 30 amino-acid long, flexible linker is present, joining the Fld and FAD domains.  SiRFP is a homolog of cytochrome P450 reductase, having its N-terminal in the Fld domain and its C-terminal in the FNR domain. \n",
    "    </p>\n",
    "    <p><h2 style=\"color:red;\">1. Analysis of N-terminus of SiRFP </h2>\n",
    "    Comparing the SEC chromatogram of N-terminus of SiRFP(NFPSh) with the known molecular wieght dimer (FP60-HP) a</body>\n",
    "<img src=\"plots.png\" /> \n",
    "<p><b>FP60-HP</b>: molecular weight-124kD</p>\n",
    "<p><b>NFPSh</b>:molecular weight- 22kDa (monomer), 176kDa (octamer)/n\n",
    "NFPSh has elution volume less than dimer so it is behaving as an <b>octamer</b>\n",
    "</p>\n",
    "<p><h2 style=\"color:red;\">2. Finding binding residues for FMN and FAD domains </h2>\n",
    "</p>\n",
    "<p> We can find out binding residues with help of inbuilt functions in biopython Bio.PDB module or we can find out our own list of residues by setting cutoff, which means all the residues which are in 10 angstrom region will considered as binding residues. Below are the images showing binding residues from the set cutoff. (You can see zoom in and rotatory images from the output of the function and you can also see the respective amino acid by pointing the mouse on it)\n",
    "<p><h3>SiRFP model</h3>\n",
    "<pre>                                    <img  src=\"SiRFP.png\" height=\"250\" /></pre></p>\n",
    "<p><h3>SiRFP with FAD binding residues in green color</h3>\n",
    "<pre>                                    <img src=\"SiRFP_FAD_green.png\" height=\"250\"/></pre>\n",
    "<h3>SiRFP with FMN binding residues in red color</h3>\n",
    "<pre>                                     <img src=\"SiRFP_FMN_red.png\" height=\"250\"/></pre>\n",
    "</p></body>\n",
    "</html>\"\"\"\n",
    "\n",
    "f.write(webpage)\n",
    "f.close()"
   ]
  },
  {
   "cell_type": "code",
   "execution_count": null,
   "metadata": {},
   "outputs": [],
   "source": []
  }
 ],
 "metadata": {
  "kernelspec": {
   "display_name": "Python 3",
   "language": "python",
   "name": "python3"
  },
  "language_info": {
   "codemirror_mode": {
    "name": "ipython",
    "version": 3
   },
   "file_extension": ".py",
   "mimetype": "text/x-python",
   "name": "python",
   "nbconvert_exporter": "python",
   "pygments_lexer": "ipython3",
   "version": "3.8.5"
  }
 },
 "nbformat": 4,
 "nbformat_minor": 4
}
